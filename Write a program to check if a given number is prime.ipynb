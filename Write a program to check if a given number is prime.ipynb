{
  "nbformat": 4,
  "nbformat_minor": 0,
  "metadata": {
    "colab": {
      "provenance": []
    },
    "kernelspec": {
      "name": "python3",
      "display_name": "Python 3"
    },
    "language_info": {
      "name": "python"
    }
  },
  "cells": [
    {
      "cell_type": "markdown",
      "source": [
        "**General Approach**"
      ],
      "metadata": {
        "id": "SxiHSxbctQIu"
      }
    },
    {
      "cell_type": "code",
      "execution_count": 12,
      "metadata": {
        "colab": {
          "base_uri": "https://localhost:8080/"
        },
        "id": "6xzuOKaz6AeK",
        "outputId": "6b2ed691-5a69-4937-e020-39da00ec901a"
      },
      "outputs": [
        {
          "output_type": "stream",
          "name": "stdout",
          "text": [
            "Enter A number to check prime : 4\n",
            "Not Prime\n"
          ]
        }
      ],
      "source": [
        "n = int(input('Enter A number to check prime : '))\n",
        "flag = True\n",
        "\n",
        "if n > 1 :\n",
        "  for i in range(2,n//2+1): # Iterate from 2 up to n//2 because if the number is not divisible by its half, it could be prime\n",
        "    if n % i == 0:\n",
        "      print('Not Prime')\n",
        "      flag = False\n",
        "      break\n",
        "  if flag: # if flag is True than it's a Prime number\n",
        "    print('Prime')\n",
        "else:\n",
        "  print('Enter a number greater than 1')"
      ]
    },
    {
      "cell_type": "markdown",
      "source": [
        "**another approach to find prime number using square root method**"
      ],
      "metadata": {
        "id": "I1tvt6GV7f_4"
      }
    },
    {
      "cell_type": "code",
      "source": [
        "n = int(input('Enter A number to check prime : '))\n",
        "flag = True\n",
        "\n",
        "# math.sqrt(n) is equivalent to n**.5\n",
        "\n",
        "if n > 1 :\n",
        "  for i in range(2,int(n**.5)+1): # If a number is not prime, its biggest divisor (other than itself) will be less than or equal to its square root.\n",
        "    if n % i == 0:\n",
        "      print('Not Prime')\n",
        "      flag = False\n",
        "      break\n",
        "  if flag: # if flag is True than it's a Prime number\n",
        "    print('Prime')\n",
        "else:\n",
        "  print('Enter a number greater than 1')"
      ],
      "metadata": {
        "colab": {
          "base_uri": "https://localhost:8080/"
        },
        "id": "4DfPH5MF7fSW",
        "outputId": "5d9e7d6a-0278-4454-be01-1306582cd2c8"
      },
      "execution_count": 17,
      "outputs": [
        {
          "output_type": "stream",
          "name": "stdout",
          "text": [
            "Enter A number to check prime : 10\n",
            "Not Prime\n"
          ]
        }
      ]
    }
  ]
}